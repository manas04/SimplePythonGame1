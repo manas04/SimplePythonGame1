{
 "cells": [
  {
   "cell_type": "code",
   "execution_count": 7,
   "metadata": {},
   "outputs": [
    {
     "name": "stdout",
     "output_type": "stream",
     "text": [
      "Hello, Welcome To Game\n",
      "Are You ready to play (yes/no)yes\n",
      "1.What is the best programming language? python\n",
      "Correect :)\n",
      "2. what is the sum of first 10 natural numbers? 55\n",
      "Correct :)\n",
      "3. What is better a 1050ti or 1060 (graphic card)? 1060\n",
      "Correct :)\n",
      "4. Who becomes the 46th president of USA? donald trump\n",
      "Incorrect :/\n",
      "Thank you for playing you got 3  questions correct\n",
      "Mark :  75.0%\n",
      "Goodbye!!\n"
     ]
    }
   ],
   "source": [
    "print(\"Hello, Welcome To Game\")\n",
    "ans=input('Are You ready to play (yes/no)')\n",
    "score=0\n",
    "total_q=4\n",
    "if ans.lower()=='yes':\n",
    "    ans=input('1.What is the best programming language? ')\n",
    "    if ans.lower()=='python':\n",
    "        score+=1\n",
    "        print('Correect :)')\n",
    "    else:\n",
    "        print('Incoorect :/')\n",
    "        \n",
    "    \n",
    "    ans = input('2. what is the sum of first 10 natural numbers? ')\n",
    "    if ans=='55':\n",
    "        score+=1\n",
    "        print('Correct :)')\n",
    "    else:\n",
    "        print('Incorrect :/')\n",
    "        \n",
    "        \n",
    "        \n",
    "    ans = input('3. What is better a 1050ti or 1060 (graphic card)? ')\n",
    "    if ans.lower()=='1060':\n",
    "        score+=1\n",
    "        print('Correct :)')\n",
    "    else:\n",
    "        print('Incorrect :/')\n",
    "        \n",
    "        \n",
    "    ans = input('4. Who becomes the 46th president of USA? ')\n",
    "    if ans.lower()=='joe biden':\n",
    "        score+=1\n",
    "        print('Correct :)')\n",
    "    else:\n",
    "        print('Incorrect :/')\n",
    "\n",
    "    print('Thank you for playing you got',score,\" questions correct\")\n",
    "\n",
    "    marks = (score/total_q)*100\n",
    "    print(\"Mark : \",str(marks)+'%')\n",
    "print(\"Goodbye!!\")\n",
    "    \n",
    "\n",
    "    \n",
    "\n",
    "    \n",
    "        \n",
    "        \n",
    "        \n",
    "    \n",
    "        \n",
    "        \n",
    "    "
   ]
  },
  {
   "cell_type": "code",
   "execution_count": null,
   "metadata": {},
   "outputs": [],
   "source": []
  }
 ],
 "metadata": {
  "kernelspec": {
   "display_name": "Python 3",
   "language": "python",
   "name": "python3"
  },
  "language_info": {
   "codemirror_mode": {
    "name": "ipython",
    "version": 3
   },
   "file_extension": ".py",
   "mimetype": "text/x-python",
   "name": "python",
   "nbconvert_exporter": "python",
   "pygments_lexer": "ipython3",
   "version": "3.7.7"
  }
 },
 "nbformat": 4,
 "nbformat_minor": 4
}
